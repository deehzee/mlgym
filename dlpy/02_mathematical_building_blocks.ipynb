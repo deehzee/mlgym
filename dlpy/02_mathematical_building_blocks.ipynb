{
  "cells": [
    {
      "cell_type": "markdown",
      "metadata": {
        "id": "view-in-github",
        "colab_type": "text"
      },
      "source": [
        "<a href=\"https://colab.research.google.com/github/deehzee/mlgym/blob/main/dlpy/02_mathematical_building_blocks.ipynb\" target=\"_parent\"><img src=\"https://colab.research.google.com/assets/colab-badge.svg\" alt=\"Open In Colab\"/></a>"
      ]
    },
    {
      "cell_type": "markdown",
      "id": "022db122",
      "metadata": {
        "id": "022db122"
      },
      "source": [
        "# Chapter 2: Mathematical Building Blocks of Neural Networks"
      ]
    },
    {
      "cell_type": "markdown",
      "source": [
        "## A First Look at Neural Networks"
      ],
      "metadata": {
        "id": "hA_gYPPqyQ19"
      },
      "id": "hA_gYPPqyQ19"
    },
    {
      "cell_type": "code",
      "source": [
        "from keras.datasets import mnist"
      ],
      "metadata": {
        "id": "ICFbmLm-xgLK"
      },
      "id": "ICFbmLm-xgLK",
      "execution_count": 1,
      "outputs": []
    },
    {
      "cell_type": "code",
      "source": [
        "(train_images, train_labels), (test_images, test_labels) = mnist.load_data()"
      ],
      "metadata": {
        "id": "P3Lq9__Wxvix",
        "outputId": "813e6f97-e605-4f1a-b1ee-258980b5b5fc",
        "colab": {
          "base_uri": "https://localhost:8080/"
        }
      },
      "id": "P3Lq9__Wxvix",
      "execution_count": 2,
      "outputs": [
        {
          "output_type": "stream",
          "name": "stdout",
          "text": [
            "Downloading data from https://storage.googleapis.com/tensorflow/tf-keras-datasets/mnist.npz\n",
            "\u001b[1m11490434/11490434\u001b[0m \u001b[32m━━━━━━━━━━━━━━━━━━━━\u001b[0m\u001b[37m\u001b[0m \u001b[1m0s\u001b[0m 0us/step\n"
          ]
        }
      ]
    },
    {
      "cell_type": "code",
      "source": [
        "train_images.shape, train_images.dtype"
      ],
      "metadata": {
        "id": "0h-nQpGrx4QD",
        "outputId": "f8964162-a854-41a5-b74e-686889db2469",
        "colab": {
          "base_uri": "https://localhost:8080/"
        }
      },
      "id": "0h-nQpGrx4QD",
      "execution_count": 5,
      "outputs": [
        {
          "output_type": "execute_result",
          "data": {
            "text/plain": [
              "((60000, 28, 28), dtype('uint8'))"
            ]
          },
          "metadata": {},
          "execution_count": 5
        }
      ]
    },
    {
      "cell_type": "code",
      "source": [
        "test_images.shape, test_images.dtype"
      ],
      "metadata": {
        "id": "BSqhgAhBx8GL",
        "outputId": "c41c86f9-e72d-4d46-9fb3-3630f83700b8",
        "colab": {
          "base_uri": "https://localhost:8080/"
        }
      },
      "id": "BSqhgAhBx8GL",
      "execution_count": 6,
      "outputs": [
        {
          "output_type": "execute_result",
          "data": {
            "text/plain": [
              "((10000, 28, 28), dtype('uint8'))"
            ]
          },
          "metadata": {},
          "execution_count": 6
        }
      ]
    },
    {
      "cell_type": "code",
      "source": [
        "train_labels.shape, train_labels.dtype"
      ],
      "metadata": {
        "id": "C50cQBmxx9Z2",
        "outputId": "e207e872-75b4-4c5c-fac0-16bfa157483b",
        "colab": {
          "base_uri": "https://localhost:8080/"
        }
      },
      "id": "C50cQBmxx9Z2",
      "execution_count": 7,
      "outputs": [
        {
          "output_type": "execute_result",
          "data": {
            "text/plain": [
              "((60000,), dtype('uint8'))"
            ]
          },
          "metadata": {},
          "execution_count": 7
        }
      ]
    },
    {
      "cell_type": "code",
      "source": [
        "test_labels.shape, test_labels.dtype"
      ],
      "metadata": {
        "id": "EAFX4LwWyEcx",
        "outputId": "1063dee7-f8dc-46a3-825d-5eb3e87c8e03",
        "colab": {
          "base_uri": "https://localhost:8080/"
        }
      },
      "id": "EAFX4LwWyEcx",
      "execution_count": 8,
      "outputs": [
        {
          "output_type": "execute_result",
          "data": {
            "text/plain": [
              "((10000,), dtype('uint8'))"
            ]
          },
          "metadata": {},
          "execution_count": 8
        }
      ]
    },
    {
      "cell_type": "code",
      "source": [
        "train_labels"
      ],
      "metadata": {
        "id": "7Q1K9YwuyG0v",
        "outputId": "17abebe6-2c09-4990-bc37-c5c7cb3c7d51",
        "colab": {
          "base_uri": "https://localhost:8080/"
        }
      },
      "id": "7Q1K9YwuyG0v",
      "execution_count": 9,
      "outputs": [
        {
          "output_type": "execute_result",
          "data": {
            "text/plain": [
              "array([5, 0, 4, ..., 5, 6, 8], dtype=uint8)"
            ]
          },
          "metadata": {},
          "execution_count": 9
        }
      ]
    },
    {
      "cell_type": "code",
      "source": [
        "test_labels"
      ],
      "metadata": {
        "id": "IhSfgHu5yJaJ",
        "outputId": "728d32e7-886a-4ba7-95e1-ca96a499a198",
        "colab": {
          "base_uri": "https://localhost:8080/"
        }
      },
      "id": "IhSfgHu5yJaJ",
      "execution_count": 10,
      "outputs": [
        {
          "output_type": "execute_result",
          "data": {
            "text/plain": [
              "array([7, 2, 1, ..., 4, 5, 6], dtype=uint8)"
            ]
          },
          "metadata": {},
          "execution_count": 10
        }
      ]
    },
    {
      "cell_type": "code",
      "source": [
        "import keras\n",
        "from keras import layers\n",
        "\n",
        "keras.backend.backend()"
      ],
      "metadata": {
        "id": "HYbj6MB2yKLg",
        "outputId": "b8226b28-bbd3-4d62-abc2-3f2fad7685d9",
        "colab": {
          "base_uri": "https://localhost:8080/",
          "height": 35
        }
      },
      "id": "HYbj6MB2yKLg",
      "execution_count": 20,
      "outputs": [
        {
          "output_type": "execute_result",
          "data": {
            "text/plain": [
              "'tensorflow'"
            ],
            "application/vnd.google.colaboratory.intrinsic+json": {
              "type": "string"
            }
          },
          "metadata": {},
          "execution_count": 20
        }
      ]
    },
    {
      "cell_type": "code",
      "source": [
        "model = keras.Sequential(\n",
        "    [\n",
        "        layers.Dense(512, activation='relu'),\n",
        "        layers.Dense(10, activation='softmax'),\n",
        "    ]\n",
        ")"
      ],
      "metadata": {
        "id": "qCVMdBlRybFU"
      },
      "id": "qCVMdBlRybFU",
      "execution_count": 12,
      "outputs": []
    },
    {
      "cell_type": "code",
      "source": [
        "model.compile(\n",
        "    optimizer='adam',\n",
        "    loss='sparse_categorical_crossentropy',\n",
        "    metrics=['accuracy'],\n",
        ")"
      ],
      "metadata": {
        "id": "p-B2XCggykQ6"
      },
      "id": "p-B2XCggykQ6",
      "execution_count": 13,
      "outputs": []
    },
    {
      "cell_type": "code",
      "source": [
        "train_images = train_images.reshape((train_images.shape[0], -1)).astype('float32') / 255\n",
        "test_images = test_images.reshape((test_images.shape[0], -1)).astype('float32') / 255\n",
        "\n",
        "(train_images.shape, train_images.dtype), (test_images.shape, test_images.dtype)"
      ],
      "metadata": {
        "id": "4mJm2spSyvXZ",
        "outputId": "f05f9083-4bf3-4db6-8259-0b8c5a7e4873",
        "colab": {
          "base_uri": "https://localhost:8080/"
        }
      },
      "id": "4mJm2spSyvXZ",
      "execution_count": 14,
      "outputs": [
        {
          "output_type": "execute_result",
          "data": {
            "text/plain": [
              "(((60000, 784), dtype('float32')), ((10000, 784), dtype('float32')))"
            ]
          },
          "metadata": {},
          "execution_count": 14
        }
      ]
    },
    {
      "cell_type": "code",
      "source": [
        "train_loss, train_acc = model.evaluate(train_images, train_labels)"
      ],
      "metadata": {
        "id": "sUejMOrPzEqV",
        "outputId": "dfabb791-8ee2-43e5-ba98-64864ffd0ecb",
        "colab": {
          "base_uri": "https://localhost:8080/"
        }
      },
      "id": "sUejMOrPzEqV",
      "execution_count": 15,
      "outputs": [
        {
          "output_type": "stream",
          "name": "stdout",
          "text": [
            "\u001b[1m1875/1875\u001b[0m \u001b[32m━━━━━━━━━━━━━━━━━━━━\u001b[0m\u001b[37m\u001b[0m \u001b[1m5s\u001b[0m 2ms/step - accuracy: 0.1254 - loss: 2.3283\n",
            "Train accuracy: 0.1250,  Train loss: 2.3281\n"
          ]
        }
      ]
    },
    {
      "cell_type": "code",
      "source": [
        "model.fit(train_images, train_labels, epochs=5, batch_size=128)"
      ],
      "metadata": {
        "id": "YqmYxsh_zZGU",
        "outputId": "28b996c8-a58e-41da-dbf8-77350547b427",
        "colab": {
          "base_uri": "https://localhost:8080/"
        }
      },
      "id": "YqmYxsh_zZGU",
      "execution_count": 16,
      "outputs": [
        {
          "output_type": "stream",
          "name": "stdout",
          "text": [
            "Epoch 1/5\n",
            "\u001b[1m469/469\u001b[0m \u001b[32m━━━━━━━━━━━━━━━━━━━━\u001b[0m\u001b[37m\u001b[0m \u001b[1m6s\u001b[0m 11ms/step - accuracy: 0.8708 - loss: 0.4593\n",
            "Epoch 2/5\n",
            "\u001b[1m469/469\u001b[0m \u001b[32m━━━━━━━━━━━━━━━━━━━━\u001b[0m\u001b[37m\u001b[0m \u001b[1m4s\u001b[0m 9ms/step - accuracy: 0.9661 - loss: 0.1175\n",
            "Epoch 3/5\n",
            "\u001b[1m469/469\u001b[0m \u001b[32m━━━━━━━━━━━━━━━━━━━━\u001b[0m\u001b[37m\u001b[0m \u001b[1m6s\u001b[0m 12ms/step - accuracy: 0.9783 - loss: 0.0721\n",
            "Epoch 4/5\n",
            "\u001b[1m469/469\u001b[0m \u001b[32m━━━━━━━━━━━━━━━━━━━━\u001b[0m\u001b[37m\u001b[0m \u001b[1m9s\u001b[0m 10ms/step - accuracy: 0.9856 - loss: 0.0487\n",
            "Epoch 5/5\n",
            "\u001b[1m469/469\u001b[0m \u001b[32m━━━━━━━━━━━━━━━━━━━━\u001b[0m\u001b[37m\u001b[0m \u001b[1m6s\u001b[0m 11ms/step - accuracy: 0.9896 - loss: 0.0362\n"
          ]
        },
        {
          "output_type": "execute_result",
          "data": {
            "text/plain": [
              "<keras.src.callbacks.history.History at 0x7a4097a1eba0>"
            ]
          },
          "metadata": {},
          "execution_count": 16
        }
      ]
    },
    {
      "cell_type": "code",
      "source": [
        "test_digits = test_images[0:10]\n",
        "predictions = model.predict(test_digits)\n",
        "predictions[0]"
      ],
      "metadata": {
        "id": "Cc3hzarlznTo",
        "outputId": "b4f116da-7c32-4fc6-b776-1ddc5ccfeb94",
        "colab": {
          "base_uri": "https://localhost:8080/"
        }
      },
      "id": "Cc3hzarlznTo",
      "execution_count": 17,
      "outputs": [
        {
          "output_type": "stream",
          "name": "stdout",
          "text": [
            "\u001b[1m1/1\u001b[0m \u001b[32m━━━━━━━━━━━━━━━━━━━━\u001b[0m\u001b[37m\u001b[0m \u001b[1m0s\u001b[0m 57ms/step\n"
          ]
        },
        {
          "output_type": "execute_result",
          "data": {
            "text/plain": [
              "array([2.2504933e-07, 2.7455908e-07, 2.3131486e-05, 3.9360631e-04,\n",
              "       4.1928566e-10, 4.2615666e-06, 2.1824606e-10, 9.9956292e-01,\n",
              "       8.5958118e-06, 6.9639691e-06], dtype=float32)"
            ]
          },
          "metadata": {},
          "execution_count": 17
        }
      ]
    },
    {
      "cell_type": "code",
      "source": [
        "predictions[0].argmax()"
      ],
      "metadata": {
        "id": "jnbloVg7z2p8",
        "outputId": "55a627f9-20f7-4571-c960-482dc200f0a7",
        "colab": {
          "base_uri": "https://localhost:8080/"
        }
      },
      "id": "jnbloVg7z2p8",
      "execution_count": 21,
      "outputs": [
        {
          "output_type": "execute_result",
          "data": {
            "text/plain": [
              "np.int64(7)"
            ]
          },
          "metadata": {},
          "execution_count": 21
        }
      ]
    },
    {
      "cell_type": "code",
      "source": [
        "predictions[0][7]"
      ],
      "metadata": {
        "id": "usYFxMEuz84V",
        "outputId": "28e0c851-6b38-4ce5-edcb-77b69ea68e08",
        "colab": {
          "base_uri": "https://localhost:8080/"
        }
      },
      "id": "usYFxMEuz84V",
      "execution_count": 22,
      "outputs": [
        {
          "output_type": "execute_result",
          "data": {
            "text/plain": [
              "np.float32(0.9995629)"
            ]
          },
          "metadata": {},
          "execution_count": 22
        }
      ]
    },
    {
      "cell_type": "code",
      "source": [
        "test_labels[0]"
      ],
      "metadata": {
        "id": "9JcP4b0l0TrC",
        "outputId": "ecdc5393-36ba-4aef-cbb3-0f4b80769ea6",
        "colab": {
          "base_uri": "https://localhost:8080/"
        }
      },
      "id": "9JcP4b0l0TrC",
      "execution_count": 23,
      "outputs": [
        {
          "output_type": "execute_result",
          "data": {
            "text/plain": [
              "np.uint8(7)"
            ]
          },
          "metadata": {},
          "execution_count": 23
        }
      ]
    },
    {
      "cell_type": "code",
      "source": [
        "test_loss, test_acc = model.evaluate(test_images, test_labels)"
      ],
      "metadata": {
        "id": "SNeOcTcf0Vv3",
        "outputId": "942714ed-1a52-4d7b-91c9-0118cc278338",
        "colab": {
          "base_uri": "https://localhost:8080/"
        }
      },
      "id": "SNeOcTcf0Vv3",
      "execution_count": 24,
      "outputs": [
        {
          "output_type": "stream",
          "name": "stdout",
          "text": [
            "\u001b[1m313/313\u001b[0m \u001b[32m━━━━━━━━━━━━━━━━━━━━\u001b[0m\u001b[37m\u001b[0m \u001b[1m1s\u001b[0m 3ms/step - accuracy: 0.9759 - loss: 0.0762\n"
          ]
        }
      ]
    },
    {
      "cell_type": "code",
      "source": [],
      "metadata": {
        "id": "oTLI5BLs0bms"
      },
      "id": "oTLI5BLs0bms",
      "execution_count": null,
      "outputs": []
    }
  ],
  "metadata": {
    "language_info": {
      "name": "python"
    },
    "colab": {
      "provenance": [],
      "include_colab_link": true
    },
    "kernelspec": {
      "name": "python3",
      "display_name": "Python 3"
    }
  },
  "nbformat": 4,
  "nbformat_minor": 5
}