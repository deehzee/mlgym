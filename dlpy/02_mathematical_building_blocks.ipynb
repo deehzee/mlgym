{
 "cells": [
  {
   "cell_type": "markdown",
   "id": "022db122",
   "metadata": {},
   "source": [
    "# Chapter 2: Mathematical Building Blocks of Neural Networks"
   ]
  },
  {
   "cell_type": "markdown",
   "id": "dc539c76",
   "metadata": {},
   "source": []
  }
 ],
 "metadata": {
  "language_info": {
   "name": "python"
  }
 },
 "nbformat": 4,
 "nbformat_minor": 5
}
