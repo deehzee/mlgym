{
  "cells": [
    {
      "cell_type": "markdown",
      "metadata": {
        "id": "view-in-github",
        "colab_type": "text"
      },
      "source": [
        "<a href=\"https://colab.research.google.com/github/deehzee/mlgym/blob/main/dlpy/02_mathematical_building_blocks.ipynb\" target=\"_parent\"><img src=\"https://colab.research.google.com/assets/colab-badge.svg\" alt=\"Open In Colab\"/></a>"
      ]
    },
    {
      "cell_type": "markdown",
      "id": "022db122",
      "metadata": {
        "id": "022db122"
      },
      "source": [
        "# Chapter 2: Mathematical Building Blocks of Neural Networks"
      ]
    },
    {
      "cell_type": "markdown",
      "source": [
        "## 2.1: Preview"
      ],
      "metadata": {
        "id": "hA_gYPPqyQ19"
      },
      "id": "hA_gYPPqyQ19"
    },
    {
      "cell_type": "code",
      "source": [
        "from keras.datasets import mnist"
      ],
      "metadata": {
        "id": "ICFbmLm-xgLK"
      },
      "id": "ICFbmLm-xgLK",
      "execution_count": null,
      "outputs": []
    },
    {
      "cell_type": "code",
      "source": [
        "(train_images, train_labels), (test_images, test_labels) = mnist.load_data()"
      ],
      "metadata": {
        "id": "P3Lq9__Wxvix",
        "outputId": "813e6f97-e605-4f1a-b1ee-258980b5b5fc",
        "colab": {
          "base_uri": "https://localhost:8080/"
        }
      },
      "id": "P3Lq9__Wxvix",
      "execution_count": null,
      "outputs": [
        {
          "output_type": "stream",
          "name": "stdout",
          "text": [
            "Downloading data from https://storage.googleapis.com/tensorflow/tf-keras-datasets/mnist.npz\n",
            "\u001b[1m11490434/11490434\u001b[0m \u001b[32m━━━━━━━━━━━━━━━━━━━━\u001b[0m\u001b[37m\u001b[0m \u001b[1m0s\u001b[0m 0us/step\n"
          ]
        }
      ]
    },
    {
      "cell_type": "code",
      "source": [
        "train_images.shape, train_images.dtype"
      ],
      "metadata": {
        "id": "0h-nQpGrx4QD",
        "outputId": "f8964162-a854-41a5-b74e-686889db2469",
        "colab": {
          "base_uri": "https://localhost:8080/"
        }
      },
      "id": "0h-nQpGrx4QD",
      "execution_count": null,
      "outputs": [
        {
          "output_type": "execute_result",
          "data": {
            "text/plain": [
              "((60000, 28, 28), dtype('uint8'))"
            ]
          },
          "metadata": {},
          "execution_count": 5
        }
      ]
    },
    {
      "cell_type": "code",
      "source": [
        "test_images.shape, test_images.dtype"
      ],
      "metadata": {
        "id": "BSqhgAhBx8GL",
        "outputId": "c41c86f9-e72d-4d46-9fb3-3630f83700b8",
        "colab": {
          "base_uri": "https://localhost:8080/"
        }
      },
      "id": "BSqhgAhBx8GL",
      "execution_count": null,
      "outputs": [
        {
          "output_type": "execute_result",
          "data": {
            "text/plain": [
              "((10000, 28, 28), dtype('uint8'))"
            ]
          },
          "metadata": {},
          "execution_count": 6
        }
      ]
    },
    {
      "cell_type": "code",
      "source": [
        "train_labels.shape, train_labels.dtype"
      ],
      "metadata": {
        "id": "C50cQBmxx9Z2",
        "outputId": "e207e872-75b4-4c5c-fac0-16bfa157483b",
        "colab": {
          "base_uri": "https://localhost:8080/"
        }
      },
      "id": "C50cQBmxx9Z2",
      "execution_count": null,
      "outputs": [
        {
          "output_type": "execute_result",
          "data": {
            "text/plain": [
              "((60000,), dtype('uint8'))"
            ]
          },
          "metadata": {},
          "execution_count": 7
        }
      ]
    },
    {
      "cell_type": "code",
      "source": [
        "test_labels.shape, test_labels.dtype"
      ],
      "metadata": {
        "id": "EAFX4LwWyEcx",
        "outputId": "1063dee7-f8dc-46a3-825d-5eb3e87c8e03",
        "colab": {
          "base_uri": "https://localhost:8080/"
        }
      },
      "id": "EAFX4LwWyEcx",
      "execution_count": null,
      "outputs": [
        {
          "output_type": "execute_result",
          "data": {
            "text/plain": [
              "((10000,), dtype('uint8'))"
            ]
          },
          "metadata": {},
          "execution_count": 8
        }
      ]
    },
    {
      "cell_type": "code",
      "source": [
        "train_labels"
      ],
      "metadata": {
        "id": "7Q1K9YwuyG0v",
        "outputId": "17abebe6-2c09-4990-bc37-c5c7cb3c7d51",
        "colab": {
          "base_uri": "https://localhost:8080/"
        }
      },
      "id": "7Q1K9YwuyG0v",
      "execution_count": null,
      "outputs": [
        {
          "output_type": "execute_result",
          "data": {
            "text/plain": [
              "array([5, 0, 4, ..., 5, 6, 8], dtype=uint8)"
            ]
          },
          "metadata": {},
          "execution_count": 9
        }
      ]
    },
    {
      "cell_type": "code",
      "source": [
        "test_labels"
      ],
      "metadata": {
        "id": "IhSfgHu5yJaJ",
        "outputId": "728d32e7-886a-4ba7-95e1-ca96a499a198",
        "colab": {
          "base_uri": "https://localhost:8080/"
        }
      },
      "id": "IhSfgHu5yJaJ",
      "execution_count": null,
      "outputs": [
        {
          "output_type": "execute_result",
          "data": {
            "text/plain": [
              "array([7, 2, 1, ..., 4, 5, 6], dtype=uint8)"
            ]
          },
          "metadata": {},
          "execution_count": 10
        }
      ]
    },
    {
      "cell_type": "code",
      "source": [
        "import keras\n",
        "from keras import layers\n",
        "\n",
        "keras.backend.backend()"
      ],
      "metadata": {
        "id": "HYbj6MB2yKLg",
        "outputId": "b8226b28-bbd3-4d62-abc2-3f2fad7685d9",
        "colab": {
          "base_uri": "https://localhost:8080/",
          "height": 35
        }
      },
      "id": "HYbj6MB2yKLg",
      "execution_count": null,
      "outputs": [
        {
          "output_type": "execute_result",
          "data": {
            "text/plain": [
              "'tensorflow'"
            ],
            "application/vnd.google.colaboratory.intrinsic+json": {
              "type": "string"
            }
          },
          "metadata": {},
          "execution_count": 20
        }
      ]
    },
    {
      "cell_type": "code",
      "source": [
        "model = keras.Sequential(\n",
        "    [\n",
        "        layers.Dense(512, activation='relu'),\n",
        "        layers.Dense(10, activation='softmax'),\n",
        "    ]\n",
        ")"
      ],
      "metadata": {
        "id": "qCVMdBlRybFU"
      },
      "id": "qCVMdBlRybFU",
      "execution_count": null,
      "outputs": []
    },
    {
      "cell_type": "code",
      "source": [
        "model.compile(\n",
        "    optimizer='adam',\n",
        "    loss='sparse_categorical_crossentropy',\n",
        "    metrics=['accuracy'],\n",
        ")"
      ],
      "metadata": {
        "id": "p-B2XCggykQ6"
      },
      "id": "p-B2XCggykQ6",
      "execution_count": null,
      "outputs": []
    },
    {
      "cell_type": "code",
      "source": [
        "train_images = train_images.reshape((train_images.shape[0], -1)).astype('float32') / 255\n",
        "test_images = test_images.reshape((test_images.shape[0], -1)).astype('float32') / 255\n",
        "\n",
        "(train_images.shape, train_images.dtype), (test_images.shape, test_images.dtype)"
      ],
      "metadata": {
        "id": "4mJm2spSyvXZ",
        "outputId": "f05f9083-4bf3-4db6-8259-0b8c5a7e4873",
        "colab": {
          "base_uri": "https://localhost:8080/"
        }
      },
      "id": "4mJm2spSyvXZ",
      "execution_count": null,
      "outputs": [
        {
          "output_type": "execute_result",
          "data": {
            "text/plain": [
              "(((60000, 784), dtype('float32')), ((10000, 784), dtype('float32')))"
            ]
          },
          "metadata": {},
          "execution_count": 14
        }
      ]
    },
    {
      "cell_type": "code",
      "source": [
        "train_loss, train_acc = model.evaluate(train_images, train_labels)"
      ],
      "metadata": {
        "id": "sUejMOrPzEqV",
        "outputId": "dfabb791-8ee2-43e5-ba98-64864ffd0ecb",
        "colab": {
          "base_uri": "https://localhost:8080/"
        }
      },
      "id": "sUejMOrPzEqV",
      "execution_count": null,
      "outputs": [
        {
          "output_type": "stream",
          "name": "stdout",
          "text": [
            "\u001b[1m1875/1875\u001b[0m \u001b[32m━━━━━━━━━━━━━━━━━━━━\u001b[0m\u001b[37m\u001b[0m \u001b[1m5s\u001b[0m 2ms/step - accuracy: 0.1254 - loss: 2.3283\n",
            "Train accuracy: 0.1250,  Train loss: 2.3281\n"
          ]
        }
      ]
    },
    {
      "cell_type": "code",
      "source": [
        "model.fit(train_images, train_labels, epochs=5, batch_size=128)"
      ],
      "metadata": {
        "id": "YqmYxsh_zZGU",
        "outputId": "28b996c8-a58e-41da-dbf8-77350547b427",
        "colab": {
          "base_uri": "https://localhost:8080/"
        }
      },
      "id": "YqmYxsh_zZGU",
      "execution_count": null,
      "outputs": [
        {
          "output_type": "stream",
          "name": "stdout",
          "text": [
            "Epoch 1/5\n",
            "\u001b[1m469/469\u001b[0m \u001b[32m━━━━━━━━━━━━━━━━━━━━\u001b[0m\u001b[37m\u001b[0m \u001b[1m6s\u001b[0m 11ms/step - accuracy: 0.8708 - loss: 0.4593\n",
            "Epoch 2/5\n",
            "\u001b[1m469/469\u001b[0m \u001b[32m━━━━━━━━━━━━━━━━━━━━\u001b[0m\u001b[37m\u001b[0m \u001b[1m4s\u001b[0m 9ms/step - accuracy: 0.9661 - loss: 0.1175\n",
            "Epoch 3/5\n",
            "\u001b[1m469/469\u001b[0m \u001b[32m━━━━━━━━━━━━━━━━━━━━\u001b[0m\u001b[37m\u001b[0m \u001b[1m6s\u001b[0m 12ms/step - accuracy: 0.9783 - loss: 0.0721\n",
            "Epoch 4/5\n",
            "\u001b[1m469/469\u001b[0m \u001b[32m━━━━━━━━━━━━━━━━━━━━\u001b[0m\u001b[37m\u001b[0m \u001b[1m9s\u001b[0m 10ms/step - accuracy: 0.9856 - loss: 0.0487\n",
            "Epoch 5/5\n",
            "\u001b[1m469/469\u001b[0m \u001b[32m━━━━━━━━━━━━━━━━━━━━\u001b[0m\u001b[37m\u001b[0m \u001b[1m6s\u001b[0m 11ms/step - accuracy: 0.9896 - loss: 0.0362\n"
          ]
        },
        {
          "output_type": "execute_result",
          "data": {
            "text/plain": [
              "<keras.src.callbacks.history.History at 0x7a4097a1eba0>"
            ]
          },
          "metadata": {},
          "execution_count": 16
        }
      ]
    },
    {
      "cell_type": "code",
      "source": [
        "test_digits = test_images[0:10]\n",
        "predictions = model.predict(test_digits)\n",
        "predictions[0]"
      ],
      "metadata": {
        "id": "Cc3hzarlznTo",
        "outputId": "b4f116da-7c32-4fc6-b776-1ddc5ccfeb94",
        "colab": {
          "base_uri": "https://localhost:8080/"
        }
      },
      "id": "Cc3hzarlznTo",
      "execution_count": null,
      "outputs": [
        {
          "output_type": "stream",
          "name": "stdout",
          "text": [
            "\u001b[1m1/1\u001b[0m \u001b[32m━━━━━━━━━━━━━━━━━━━━\u001b[0m\u001b[37m\u001b[0m \u001b[1m0s\u001b[0m 57ms/step\n"
          ]
        },
        {
          "output_type": "execute_result",
          "data": {
            "text/plain": [
              "array([2.2504933e-07, 2.7455908e-07, 2.3131486e-05, 3.9360631e-04,\n",
              "       4.1928566e-10, 4.2615666e-06, 2.1824606e-10, 9.9956292e-01,\n",
              "       8.5958118e-06, 6.9639691e-06], dtype=float32)"
            ]
          },
          "metadata": {},
          "execution_count": 17
        }
      ]
    },
    {
      "cell_type": "code",
      "source": [
        "predictions[0].argmax()"
      ],
      "metadata": {
        "id": "jnbloVg7z2p8",
        "outputId": "55a627f9-20f7-4571-c960-482dc200f0a7",
        "colab": {
          "base_uri": "https://localhost:8080/"
        }
      },
      "id": "jnbloVg7z2p8",
      "execution_count": null,
      "outputs": [
        {
          "output_type": "execute_result",
          "data": {
            "text/plain": [
              "np.int64(7)"
            ]
          },
          "metadata": {},
          "execution_count": 21
        }
      ]
    },
    {
      "cell_type": "code",
      "source": [
        "predictions[0][7]"
      ],
      "metadata": {
        "id": "usYFxMEuz84V",
        "outputId": "28e0c851-6b38-4ce5-edcb-77b69ea68e08",
        "colab": {
          "base_uri": "https://localhost:8080/"
        }
      },
      "id": "usYFxMEuz84V",
      "execution_count": null,
      "outputs": [
        {
          "output_type": "execute_result",
          "data": {
            "text/plain": [
              "np.float32(0.9995629)"
            ]
          },
          "metadata": {},
          "execution_count": 22
        }
      ]
    },
    {
      "cell_type": "code",
      "source": [
        "test_labels[0]"
      ],
      "metadata": {
        "id": "9JcP4b0l0TrC",
        "outputId": "ecdc5393-36ba-4aef-cbb3-0f4b80769ea6",
        "colab": {
          "base_uri": "https://localhost:8080/"
        }
      },
      "id": "9JcP4b0l0TrC",
      "execution_count": null,
      "outputs": [
        {
          "output_type": "execute_result",
          "data": {
            "text/plain": [
              "np.uint8(7)"
            ]
          },
          "metadata": {},
          "execution_count": 23
        }
      ]
    },
    {
      "cell_type": "code",
      "source": [
        "test_loss, test_acc = model.evaluate(test_images, test_labels)"
      ],
      "metadata": {
        "id": "SNeOcTcf0Vv3",
        "outputId": "942714ed-1a52-4d7b-91c9-0118cc278338",
        "colab": {
          "base_uri": "https://localhost:8080/"
        }
      },
      "id": "SNeOcTcf0Vv3",
      "execution_count": null,
      "outputs": [
        {
          "output_type": "stream",
          "name": "stdout",
          "text": [
            "\u001b[1m313/313\u001b[0m \u001b[32m━━━━━━━━━━━━━━━━━━━━\u001b[0m\u001b[37m\u001b[0m \u001b[1m1s\u001b[0m 3ms/step - accuracy: 0.9759 - loss: 0.0762\n"
          ]
        }
      ]
    },
    {
      "cell_type": "markdown",
      "source": [
        "## 2.2: Data Representations"
      ],
      "metadata": {
        "id": "n759Vf361T84"
      },
      "id": "n759Vf361T84"
    },
    {
      "cell_type": "code",
      "source": [
        "import numpy as np"
      ],
      "metadata": {
        "id": "oTLI5BLs0bms"
      },
      "id": "oTLI5BLs0bms",
      "execution_count": 25,
      "outputs": []
    },
    {
      "cell_type": "code",
      "source": [
        "x = np.array(12)"
      ],
      "metadata": {
        "id": "CRFvjjU7_7Qt"
      },
      "id": "CRFvjjU7_7Qt",
      "execution_count": 26,
      "outputs": []
    },
    {
      "cell_type": "code",
      "source": [
        "x"
      ],
      "metadata": {
        "id": "mi6lwkT2_-25",
        "outputId": "46eb86f7-bfe5-4119-c34b-4cfb08d32cf9",
        "colab": {
          "base_uri": "https://localhost:8080/"
        }
      },
      "id": "mi6lwkT2_-25",
      "execution_count": 27,
      "outputs": [
        {
          "output_type": "execute_result",
          "data": {
            "text/plain": [
              "array(12)"
            ]
          },
          "metadata": {},
          "execution_count": 27
        }
      ]
    },
    {
      "cell_type": "code",
      "source": [
        "x.shape, x.ndim, x.dtype"
      ],
      "metadata": {
        "id": "xBNKzSrV__Zv",
        "outputId": "476a7e9a-b274-40d8-bed6-470c33cf2684",
        "colab": {
          "base_uri": "https://localhost:8080/"
        }
      },
      "id": "xBNKzSrV__Zv",
      "execution_count": 28,
      "outputs": [
        {
          "output_type": "execute_result",
          "data": {
            "text/plain": [
              "((), 0, dtype('int64'))"
            ]
          },
          "metadata": {},
          "execution_count": 28
        }
      ]
    },
    {
      "cell_type": "code",
      "source": [
        "x = np.array([12, 3, 6, 14, 7])\n",
        "x"
      ],
      "metadata": {
        "id": "Q0p561HZACi4",
        "outputId": "43ae42e7-3e80-4ad9-94a2-95dbfc0058d0",
        "colab": {
          "base_uri": "https://localhost:8080/"
        }
      },
      "id": "Q0p561HZACi4",
      "execution_count": 29,
      "outputs": [
        {
          "output_type": "execute_result",
          "data": {
            "text/plain": [
              "array([12,  3,  6, 14,  7])"
            ]
          },
          "metadata": {},
          "execution_count": 29
        }
      ]
    },
    {
      "cell_type": "code",
      "source": [
        "x.shape, x.ndim, x.dtype"
      ],
      "metadata": {
        "id": "3CiO9tFuAM7o",
        "outputId": "c130ed55-5423-4a47-dd1c-e78376235365",
        "colab": {
          "base_uri": "https://localhost:8080/"
        }
      },
      "id": "3CiO9tFuAM7o",
      "execution_count": 30,
      "outputs": [
        {
          "output_type": "execute_result",
          "data": {
            "text/plain": [
              "((5,), 1, dtype('int64'))"
            ]
          },
          "metadata": {},
          "execution_count": 30
        }
      ]
    },
    {
      "cell_type": "code",
      "source": [
        "x = np.array([[5, 8, 9, 10, 0],\n",
        "              [11, 9, 12, -1, 6],\n",
        "              [1, 3, 0, 5, 9]])\n",
        "x"
      ],
      "metadata": {
        "id": "2Td2-TdaAP4B",
        "outputId": "0eac70bb-6e7c-4db9-bbd3-d4a25159e963",
        "colab": {
          "base_uri": "https://localhost:8080/"
        }
      },
      "id": "2Td2-TdaAP4B",
      "execution_count": 31,
      "outputs": [
        {
          "output_type": "execute_result",
          "data": {
            "text/plain": [
              "array([[ 5,  8,  9, 10,  0],\n",
              "       [11,  9, 12, -1,  6],\n",
              "       [ 1,  3,  0,  5,  9]])"
            ]
          },
          "metadata": {},
          "execution_count": 31
        }
      ]
    },
    {
      "cell_type": "code",
      "source": [
        "x.shape, x.ndim, x.dtype"
      ],
      "metadata": {
        "id": "S3VwAszHBHr2",
        "outputId": "4ae74bf3-e283-42bc-e1b8-cd5ed73d4862",
        "colab": {
          "base_uri": "https://localhost:8080/"
        }
      },
      "id": "S3VwAszHBHr2",
      "execution_count": 32,
      "outputs": [
        {
          "output_type": "execute_result",
          "data": {
            "text/plain": [
              "((3, 5), 2, dtype('int64'))"
            ]
          },
          "metadata": {},
          "execution_count": 32
        }
      ]
    },
    {
      "cell_type": "code",
      "source": [
        "x = np.array([[[5, 7, 2, 3, 0],\n",
        "               [6, 9, 3, 5, 1],\n",
        "               [7, 0, 4, 6, 2]],\n",
        "              [[5, 7, 8, 9, 0],\n",
        "               [1, 3, 2, -1, 0],\n",
        "               [0, 1, 8, 9, 1]]])\n",
        "x"
      ],
      "metadata": {
        "id": "wPVGYSYaBKQK",
        "outputId": "31e0ca0f-d8c0-427b-881f-9761774dfa62",
        "colab": {
          "base_uri": "https://localhost:8080/"
        }
      },
      "id": "wPVGYSYaBKQK",
      "execution_count": 33,
      "outputs": [
        {
          "output_type": "execute_result",
          "data": {
            "text/plain": [
              "array([[[ 5,  7,  2,  3,  0],\n",
              "        [ 6,  9,  3,  5,  1],\n",
              "        [ 7,  0,  4,  6,  2]],\n",
              "\n",
              "       [[ 5,  7,  8,  9,  0],\n",
              "        [ 1,  3,  2, -1,  0],\n",
              "        [ 0,  1,  8,  9,  1]]])"
            ]
          },
          "metadata": {},
          "execution_count": 33
        }
      ]
    },
    {
      "cell_type": "code",
      "source": [
        "x.shape, x.ndim, x.dtype"
      ],
      "metadata": {
        "id": "fg8iHg13Bf83",
        "outputId": "aa461480-8576-4446-bed8-d5004c6bf5f0",
        "colab": {
          "base_uri": "https://localhost:8080/"
        }
      },
      "id": "fg8iHg13Bf83",
      "execution_count": 34,
      "outputs": [
        {
          "output_type": "execute_result",
          "data": {
            "text/plain": [
              "((2, 3, 5), 3, dtype('int64'))"
            ]
          },
          "metadata": {},
          "execution_count": 34
        }
      ]
    },
    {
      "cell_type": "code",
      "source": [
        "from keras.datasets import mnist"
      ],
      "metadata": {
        "id": "-Czi6RAOBjPF"
      },
      "id": "-Czi6RAOBjPF",
      "execution_count": 35,
      "outputs": []
    },
    {
      "cell_type": "code",
      "source": [
        "(train_images, train_labels), (test_images, test_labels) = mnist.load_data()"
      ],
      "metadata": {
        "id": "4ww8rR8eCHYX"
      },
      "id": "4ww8rR8eCHYX",
      "execution_count": 36,
      "outputs": []
    },
    {
      "cell_type": "code",
      "source": [
        "train_images.ndim, train_images.shape, train_images.dtype"
      ],
      "metadata": {
        "id": "bmQPyY84CMdI",
        "outputId": "6dbef683-8000-4cc9-bb3d-4ef4d7e06d59",
        "colab": {
          "base_uri": "https://localhost:8080/"
        }
      },
      "id": "bmQPyY84CMdI",
      "execution_count": 38,
      "outputs": [
        {
          "output_type": "execute_result",
          "data": {
            "text/plain": [
              "(3, (60000, 28, 28), dtype('uint8'))"
            ]
          },
          "metadata": {},
          "execution_count": 38
        }
      ]
    },
    {
      "cell_type": "code",
      "source": [
        "import matplotlib.pyplot as plt"
      ],
      "metadata": {
        "id": "qahg6meNCQGo"
      },
      "id": "qahg6meNCQGo",
      "execution_count": 39,
      "outputs": []
    },
    {
      "cell_type": "code",
      "source": [
        "digit = test_images[0]\n",
        "plt.imshow(digit, cmap=plt.cm.binary)\n",
        "plt.show()"
      ],
      "metadata": {
        "id": "hWqjn0j_CYK9",
        "outputId": "ff31d700-a826-422b-fa79-3a692fe8d749",
        "colab": {
          "base_uri": "https://localhost:8080/",
          "height": 430
        }
      },
      "id": "hWqjn0j_CYK9",
      "execution_count": 43,
      "outputs": [
        {
          "output_type": "display_data",
          "data": {
            "text/plain": [
              "<Figure size 640x480 with 1 Axes>"
            ],
            "image/png": "[encoded data removed]"
          },
          "metadata": {}
        }
      ]
    },
    {
      "cell_type": "code",
      "source": [
        "test_labels[0]"
      ],
      "metadata": {
        "id": "QQ-zHkC5ClTq",
        "outputId": "e11669e6-6645-4a56-b4f6-5fdc77e48132",
        "colab": {
          "base_uri": "https://localhost:8080/"
        }
      },
      "id": "QQ-zHkC5ClTq",
      "execution_count": 41,
      "outputs": [
        {
          "output_type": "execute_result",
          "data": {
            "text/plain": [
              "np.uint8(7)"
            ]
          },
          "metadata": {},
          "execution_count": 41
        }
      ]
    },
    {
      "cell_type": "code",
      "source": [
        "# Take images from #10 to #100 (excl)\n",
        "my_slice = train_images[10:100]\n",
        "my_slice.shape"
      ],
      "metadata": {
        "id": "Dgr9G_3ECvGp",
        "outputId": "b763e136-cf36-4f82-f6ee-9d9d34adc7e8",
        "colab": {
          "base_uri": "https://localhost:8080/"
        }
      },
      "id": "Dgr9G_3ECvGp",
      "execution_count": 44,
      "outputs": [
        {
          "output_type": "execute_result",
          "data": {
            "text/plain": [
              "(90, 28, 28)"
            ]
          },
          "metadata": {},
          "execution_count": 44
        }
      ]
    },
    {
      "cell_type": "code",
      "source": [
        "# Bottom right corner of the images\n",
        "my_slice = train_images[:, 14:, 14:]\n",
        "my_slice.shape"
      ],
      "metadata": {
        "id": "B12VRUYfDcCU",
        "outputId": "9a0051d6-8d9a-45e7-f519-39b93829bd9d",
        "colab": {
          "base_uri": "https://localhost:8080/"
        }
      },
      "id": "B12VRUYfDcCU",
      "execution_count": 45,
      "outputs": [
        {
          "output_type": "execute_result",
          "data": {
            "text/plain": [
              "(60000, 14, 14)"
            ]
          },
          "metadata": {},
          "execution_count": 45
        }
      ]
    },
    {
      "cell_type": "code",
      "source": [
        "# Middle of the images\n",
        "my_slice = train_images[:, 7:-7, 7:-7]\n",
        "my_slice.shape"
      ],
      "metadata": {
        "id": "e5LZDWqRDtFD",
        "outputId": "13157ca5-f261-400a-b27f-72a62e0f143f",
        "colab": {
          "base_uri": "https://localhost:8080/"
        }
      },
      "id": "e5LZDWqRDtFD",
      "execution_count": 46,
      "outputs": [
        {
          "output_type": "execute_result",
          "data": {
            "text/plain": [
              "(60000, 14, 14)"
            ]
          },
          "metadata": {},
          "execution_count": 46
        }
      ]
    },
    {
      "cell_type": "code",
      "source": [
        "# n-th batch (axis 0 is the samples)\n",
        "n=2\n",
        "batch = train_images[128 * n : 128 * (n + 1)]\n",
        "batch.shape"
      ],
      "metadata": {
        "id": "eWrWVYkDD2x0",
        "outputId": "9dec428c-ca6d-4f34-9926-a68852252445",
        "colab": {
          "base_uri": "https://localhost:8080/"
        }
      },
      "id": "eWrWVYkDD2x0",
      "execution_count": 48,
      "outputs": [
        {
          "output_type": "execute_result",
          "data": {
            "text/plain": [
              "(128, 28, 28)"
            ]
          },
          "metadata": {},
          "execution_count": 48
        }
      ]
    },
    {
      "cell_type": "markdown",
      "source": [
        "- **Vector data**: Rank-2 tensors of shape `(samples, features)`, where each sample is a vector of numerical attributes (\"features\").\n",
        "- **Timeseries data or sequence data**: Rank-3 tensors of shape `(samples, timesteps, features)`, where each sample is a sequence (of length `timesteps`) of feature vectors.\n",
        "- **Images**: Rank-4 tensors of shape `(samples, height, width, channels)`, where each sample is a 2D grid of pixels, each pixel is represented by a vector of values (\"channels\").\n",
        "- **Video**: Rank-5 tensors of shape `(samples, frames, height, width, channels)`, where each sample is a sequence (of length `frames`) of images."
      ],
      "metadata": {
        "id": "BV2nYh1DRNxK"
      },
      "id": "BV2nYh1DRNxK"
    },
    {
      "cell_type": "markdown",
      "source": [
        "## 2.3 + 2.4: Tensor Operations and Vectorization"
      ],
      "metadata": {
        "id": "MfVCDlQ8oHSc"
      },
      "id": "MfVCDlQ8oHSc"
    },
    {
      "cell_type": "code",
      "source": [
        "def naive_relu(x):\n",
        "  assert len(x.shape) == 2\n",
        "  x = x.copy()\n",
        "  for i in range(x.shape[0]):\n",
        "    for j in range(x.shape[1]):\n",
        "      x[i, j] = max(x[i, j], 0)\n",
        "  return x"
      ],
      "metadata": {
        "id": "Rru0JctLEKx5"
      },
      "id": "Rru0JctLEKx5",
      "execution_count": 50,
      "outputs": []
    },
    {
      "cell_type": "code",
      "source": [
        "def naive_add(x, y):\n",
        "  assert len(x.shape) == 2\n",
        "  assert x.shape == y.shape\n",
        "  x = x.copy()\n",
        "  for i in range(x.shape[0]):\n",
        "    for j in range(x.shape[1]):\n",
        "      x[i, j] += y[i, j]\n",
        "  return x"
      ],
      "metadata": {
        "id": "Hm_IKFUvmAZ7"
      },
      "id": "Hm_IKFUvmAZ7",
      "execution_count": 51,
      "outputs": []
    },
    {
      "cell_type": "code",
      "source": [
        "import time\n",
        "\n",
        "x = np.random.random((20, 100))\n",
        "y = np.random.random((20, 100))\n",
        "\n",
        "t0 = time.time()\n",
        "for _ in range(1000):\n",
        "  z = naive_add(x, y)\n",
        "  z = naive_relu(z)\n",
        "print(\"Took: {0:.2f} s\".format(time.time() - t0))"
      ],
      "metadata": {
        "id": "cKZXHNq2mn91",
        "outputId": "ceac43e8-eb42-40e2-e3a1-2b76549a1f55",
        "colab": {
          "base_uri": "https://localhost:8080/"
        }
      },
      "id": "cKZXHNq2mn91",
      "execution_count": 56,
      "outputs": [
        {
          "output_type": "stream",
          "name": "stdout",
          "text": [
            "Took: 1.83 s\n"
          ]
        }
      ]
    },
    {
      "cell_type": "code",
      "source": [
        "import numpy as np\n",
        "\n",
        "t0 = time.time()\n",
        "for _ in range(1000):\n",
        "  z = x + y\n",
        "  z = np.maximum(z, 0.0)\n",
        "print(\"Took: {0:.2f} s\".format(time.time() - t0))"
      ],
      "metadata": {
        "id": "PpCMoNepm9JA",
        "outputId": "5eeee5eb-dd20-4355-f15c-561dbb0a588b",
        "colab": {
          "base_uri": "https://localhost:8080/"
        }
      },
      "id": "PpCMoNepm9JA",
      "execution_count": 57,
      "outputs": [
        {
          "output_type": "stream",
          "name": "stdout",
          "text": [
            "Took: 0.01 s\n"
          ]
        }
      ]
    },
    {
      "cell_type": "markdown",
      "source": [
        "## 2.5: Broadcasting"
      ],
      "metadata": {
        "id": "QkRkovNFoR7K"
      },
      "id": "QkRkovNFoR7K"
    },
    {
      "cell_type": "code",
      "source": [
        "import numpy as np\n",
        "\n",
        "x = np.random.random((32, 10))\n",
        "y = np.random.random((10,))\n",
        "\n",
        "x.shape, y.shape"
      ],
      "metadata": {
        "id": "2Jd4KSRLnY4r",
        "outputId": "2b224a1e-53e4-4ed7-87e3-9a4ee7ba088f",
        "colab": {
          "base_uri": "https://localhost:8080/"
        }
      },
      "id": "2Jd4KSRLnY4r",
      "execution_count": 65,
      "outputs": [
        {
          "output_type": "execute_result",
          "data": {
            "text/plain": [
              "((32, 10), (10,))"
            ]
          },
          "metadata": {},
          "execution_count": 65
        }
      ]
    },
    {
      "cell_type": "code",
      "source": [
        "y1 = np.expand_dims(y, axis=0)\n",
        "y1.shape"
      ],
      "metadata": {
        "id": "yqREZQ2hogVX",
        "outputId": "2e8e5964-8a79-4d6d-ddb8-7dafdcdb5ffc",
        "colab": {
          "base_uri": "https://localhost:8080/"
        }
      },
      "id": "yqREZQ2hogVX",
      "execution_count": 66,
      "outputs": [
        {
          "output_type": "execute_result",
          "data": {
            "text/plain": [
              "(1, 10)"
            ]
          },
          "metadata": {},
          "execution_count": 66
        }
      ]
    },
    {
      "cell_type": "code",
      "source": [
        "y2 = y[np.newaxis, :]\n",
        "y2.shape"
      ],
      "metadata": {
        "id": "h4zDQqcEovvY",
        "outputId": "80cc5be6-d7e5-47c8-c8bc-347bf7fe530e",
        "colab": {
          "base_uri": "https://localhost:8080/"
        }
      },
      "id": "h4zDQqcEovvY",
      "execution_count": 67,
      "outputs": [
        {
          "output_type": "execute_result",
          "data": {
            "text/plain": [
              "(1, 10)"
            ]
          },
          "metadata": {},
          "execution_count": 67
        }
      ]
    },
    {
      "cell_type": "code",
      "source": [
        "np.all(y1 == y2)"
      ],
      "metadata": {
        "id": "dC3aZFv-o-OT",
        "outputId": "04b26f58-e36f-4e4a-ccad-952cb456a993",
        "colab": {
          "base_uri": "https://localhost:8080/"
        }
      },
      "id": "dC3aZFv-o-OT",
      "execution_count": 71,
      "outputs": [
        {
          "output_type": "execute_result",
          "data": {
            "text/plain": [
              "np.True_"
            ]
          },
          "metadata": {},
          "execution_count": 71
        }
      ]
    },
    {
      "cell_type": "code",
      "source": [
        "y = y1"
      ],
      "metadata": {
        "id": "vvF2Dv3VpFn1"
      },
      "id": "vvF2Dv3VpFn1",
      "execution_count": 72,
      "outputs": []
    },
    {
      "cell_type": "code",
      "source": [
        "Y = np.tile(y, (x.shape[0], 1))\n",
        "Y.shape"
      ],
      "metadata": {
        "id": "paLRTSIEpRmP",
        "outputId": "05c8dc5a-e956-4f74-ac31-851c67fffc63",
        "colab": {
          "base_uri": "https://localhost:8080/"
        }
      },
      "id": "paLRTSIEpRmP",
      "execution_count": 73,
      "outputs": [
        {
          "output_type": "execute_result",
          "data": {
            "text/plain": [
              "(32, 10)"
            ]
          },
          "metadata": {},
          "execution_count": 73
        }
      ]
    },
    {
      "cell_type": "code",
      "source": [
        "def naive_add_matrix_and_vector(x, y):\n",
        "  assert x.ndim == 2\n",
        "  assert y.ndim == 1\n",
        "  assert x.shape[1] == y.shape[0]\n",
        "  x = x.copy()\n",
        "  for i in range(x.shape[0]):\n",
        "    for j in range(x.shape[1]):\n",
        "      x[i, j] += y[j]\n",
        "  return x"
      ],
      "metadata": {
        "id": "7L3k6DXXpsoV"
      },
      "id": "7L3k6DXXpsoV",
      "execution_count": 75,
      "outputs": []
    },
    {
      "cell_type": "code",
      "source": [],
      "metadata": {
        "id": "xRq1qPtDpugC"
      },
      "id": "xRq1qPtDpugC",
      "execution_count": null,
      "outputs": []
    }
  ],
  "metadata": {
    "language_info": {
      "name": "python"
    },
    "colab": {
      "provenance": [],
      "include_colab_link": true
    },
    "kernelspec": {
      "name": "python3",
      "display_name": "Python 3"
    }
  },
  "nbformat": 4,
  "nbformat_minor": 5
}